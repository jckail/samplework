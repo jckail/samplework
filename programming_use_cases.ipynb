{
  "nbformat": 4,
  "nbformat_minor": 0,
  "metadata": {
    "colab": {
      "name": "programming_use_cases.ipynb",
      "provenance": [],
      "authorship_tag": "ABX9TyM8gE0Ac3Q3SMWm2DbUW2Bj",
      "include_colab_link": true
    },
    "kernelspec": {
      "name": "python3",
      "display_name": "Python 3"
    }
  },
  "cells": [
    {
      "cell_type": "markdown",
      "metadata": {
        "id": "view-in-github",
        "colab_type": "text"
      },
      "source": [
        "<a href=\"https://colab.research.google.com/github/jckail/samplework/blob/master/programming_use_cases.ipynb\" target=\"_parent\"><img src=\"https://colab.research.google.com/assets/colab-badge.svg\" alt=\"Open In Colab\"/></a>"
      ]
    },
    {
      "cell_type": "code",
      "metadata": {
        "id": "gxbdFabtV2pd",
        "colab_type": "code",
        "colab": {}
      },
      "source": [
        "def connect_drive(subdir = ''):\n",
        "    from google.colab import drive\n",
        "    dm = '/content/gdrive'\n",
        "    drive.mount(dm, force_remount=True)\n",
        "    file_path = dm+'/My\\ Drive/'+subdir\n",
        "\n",
        "    %cd {file_path}\n",
        "    !ls -ltra *.py\n",
        "    !cat *.py\n",
        "    import sys\n",
        "    import os\n",
        "    if file_path in sys.path:\n",
        "        print(f\"\"\" file_path exists at index {sys.path.index(file_path)}\"\"\")\n",
        "    else:\n",
        "        print(f\"\"\" Does not exist creating: {file_path}\"\"\")\n",
        "        sys.path.append(file_path)\n",
        "        print('result: ')\n",
        "\n",
        "    sys.path\n",
        "\n",
        "def cat_all():\n",
        "    !pwd\n",
        "    !ls -d */\n",
        "    !ls -ltra *.py\n",
        "    !cat *.py"
      ],
      "execution_count": 0,
      "outputs": []
    },
    {
      "cell_type": "code",
      "metadata": {
        "id": "OC0R0uNdWAF_",
        "colab_type": "code",
        "colab": {
          "base_uri": "https://localhost:8080/",
          "height": 119
        },
        "outputId": "52d14f3c-c3f4-4d57-e2df-b670d6e48946"
      },
      "source": [
        "connect_drive()"
      ],
      "execution_count": 2,
      "outputs": [
        {
          "output_type": "stream",
          "text": [
            "Mounted at /content/gdrive\n",
            "/content/gdrive/My Drive\n",
            "ls: cannot access '*.py': No such file or directory\n",
            "cat: '*.py': No such file or directory\n",
            " Does not exist creating: /content/gdrive/My\\ Drive/\n",
            "result: \n"
          ],
          "name": "stdout"
        }
      ]
    },
    {
      "cell_type": "markdown",
      "metadata": {
        "id": "M8Gr_9IcW2qd",
        "colab_type": "text"
      },
      "source": [
        "LOAD TESTING CLI POWERFUL CLIS\n"
      ]
    },
    {
      "cell_type": "markdown",
      "metadata": {
        "id": "OO6nRHpDY699",
        "colab_type": "text"
      },
      "source": [
        "setup.py"
      ]
    },
    {
      "cell_type": "code",
      "metadata": {
        "id": "dJu7fEwXW8cm",
        "colab_type": "code",
        "colab": {
          "base_uri": "https://localhost:8080/",
          "height": 88
        },
        "outputId": "88bfffd4-96a6-4317-a413-cb6059015701"
      },
      "source": [
        "!curl -O https://raw.githubusercontent.com/navdeep-G/setup.py/master/setup.py"
      ],
      "execution_count": 8,
      "outputs": [
        {
          "output_type": "stream",
          "text": [
            "  % Total    % Received % Xferd  Average Speed   Time    Time     Time  Current\n",
            "                                 Dload  Upload   Total   Spent    Left  Speed\n",
            "\r  0     0    0     0    0     0      0      0 --:--:-- --:--:-- --:--:--     0\r100  3780  100  3780    0     0  20000      0 --:--:-- --:--:-- --:--:-- 20000\n"
          ],
          "name": "stdout"
        }
      ]
    },
    {
      "cell_type": "code",
      "metadata": {
        "id": "oQkUi48hY-8a",
        "colab_type": "code",
        "colab": {
          "base_uri": "https://localhost:8080/",
          "height": 88
        },
        "outputId": "983f2a44-e2cb-4ec6-feb1-7fa289889609"
      },
      "source": [
        "!curl https://raw.githubusercontent.com/github/gitignore/master/Python.gitignore -o .gitignore"
      ],
      "execution_count": 10,
      "outputs": [
        {
          "output_type": "stream",
          "text": [
            "  % Total    % Received % Xferd  Average Speed   Time    Time     Time  Current\n",
            "                                 Dload  Upload   Total   Spent    Left  Speed\n",
            "\r  0     0    0     0    0     0      0      0 --:--:-- --:--:-- --:--:--     0\r100  2035  100  2035    0     0  14535      0 --:--:-- --:--:-- --:--:-- 14535\n"
          ],
          "name": "stdout"
        }
      ]
    },
    {
      "cell_type": "code",
      "metadata": {
        "id": "_HMgNXOXZ1Zr",
        "colab_type": "code",
        "colab": {
          "base_uri": "https://localhost:8080/",
          "height": 530
        },
        "outputId": "4965e133-79fd-4976-e47f-c70cfcb21b0c"
      },
      "source": [
        "!pip install pipenv"
      ],
      "execution_count": 12,
      "outputs": [
        {
          "output_type": "stream",
          "text": [
            "Collecting pipenv\n",
            "\u001b[?25l  Downloading https://files.pythonhosted.org/packages/13/b4/3ffa55f77161cff9a5220f162670f7c5eb00df52e00939e203f601b0f579/pipenv-2018.11.26-py3-none-any.whl (5.2MB)\n",
            "\u001b[K     |████████████████████████████████| 5.2MB 2.7MB/s \n",
            "\u001b[?25hCollecting virtualenv\n",
            "\u001b[?25l  Downloading https://files.pythonhosted.org/packages/57/6e/a13442adf18bada682f88f55638cd43cc7a39c3e00fdcf898ca4ceaeb682/virtualenv-20.0.21-py2.py3-none-any.whl (4.7MB)\n",
            "\u001b[K     |████████████████████████████████| 4.7MB 38.1MB/s \n",
            "\u001b[?25hRequirement already satisfied: setuptools>=36.2.1 in /usr/local/lib/python3.6/dist-packages (from pipenv) (46.3.0)\n",
            "Requirement already satisfied: pip>=9.0.1 in /usr/local/lib/python3.6/dist-packages (from pipenv) (19.3.1)\n",
            "Collecting virtualenv-clone>=0.2.5\n",
            "  Downloading https://files.pythonhosted.org/packages/83/b8/cd931487d250565392c39409117436d910232c8a3ac09ea2fb62a6c47bff/virtualenv_clone-0.5.4-py2.py3-none-any.whl\n",
            "Requirement already satisfied: certifi in /usr/local/lib/python3.6/dist-packages (from pipenv) (2020.4.5.1)\n",
            "Collecting appdirs<2,>=1.4.3\n",
            "  Downloading https://files.pythonhosted.org/packages/3b/00/2344469e2084fb287c2e0b57b72910309874c3245463acd6cf5e3db69324/appdirs-1.4.4-py2.py3-none-any.whl\n",
            "Requirement already satisfied: six<2,>=1.9.0 in /usr/local/lib/python3.6/dist-packages (from virtualenv->pipenv) (1.12.0)\n",
            "Collecting importlib-resources<2,>=1.0; python_version < \"3.7\"\n",
            "  Downloading https://files.pythonhosted.org/packages/7f/2d/88f166bcaadc09d9fdbf1c336ad118e01b7fe1155e15675e125be2ff1899/importlib_resources-1.5.0-py2.py3-none-any.whl\n",
            "Requirement already satisfied: importlib-metadata<2,>=0.12; python_version < \"3.8\" in /usr/local/lib/python3.6/dist-packages (from virtualenv->pipenv) (1.6.0)\n",
            "Collecting distlib<1,>=0.3.0\n",
            "\u001b[?25l  Downloading https://files.pythonhosted.org/packages/7d/29/694a3a4d7c0e1aef76092e9167fbe372e0f7da055f5dcf4e1313ec21d96a/distlib-0.3.0.zip (571kB)\n",
            "\u001b[K     |████████████████████████████████| 573kB 43.4MB/s \n",
            "\u001b[?25hRequirement already satisfied: filelock<4,>=3.0.0 in /usr/local/lib/python3.6/dist-packages (from virtualenv->pipenv) (3.0.12)\n",
            "Requirement already satisfied: zipp>=0.4; python_version < \"3.8\" in /usr/local/lib/python3.6/dist-packages (from importlib-resources<2,>=1.0; python_version < \"3.7\"->virtualenv->pipenv) (3.1.0)\n",
            "Building wheels for collected packages: distlib\n",
            "  Building wheel for distlib (setup.py) ... \u001b[?25l\u001b[?25hdone\n",
            "  Created wheel for distlib: filename=distlib-0.3.0-cp36-none-any.whl size=340429 sha256=d0e2a8d7964da794bb6b4cab14522708237bcd5277c8dd86c35d1a518f845d96\n",
            "  Stored in directory: /root/.cache/pip/wheels/6e/e8/db/c73dae4867666e89ba3cfbc4b5c092446f0e584eda6f409cbb\n",
            "Successfully built distlib\n",
            "Installing collected packages: appdirs, importlib-resources, distlib, virtualenv, virtualenv-clone, pipenv\n",
            "Successfully installed appdirs-1.4.4 distlib-0.3.0 importlib-resources-1.5.0 pipenv-2018.11.26 virtualenv-20.0.21 virtualenv-clone-0.5.4\n"
          ],
          "name": "stdout"
        }
      ]
    },
    {
      "cell_type": "code",
      "metadata": {
        "id": "oaQOW9a1aE3i",
        "colab_type": "code",
        "colab": {}
      },
      "source": [
        "!pip install twine"
      ],
      "execution_count": 0,
      "outputs": []
    },
    {
      "cell_type": "code",
      "metadata": {
        "id": "LpYs1hZjayUl",
        "colab_type": "code",
        "colab": {
          "base_uri": "https://localhost:8080/",
          "height": 51
        },
        "outputId": "db0ddb01-d1bc-4dad-e4a5-809a9f5eec3b"
      },
      "source": [
        "!git add --all ."
      ],
      "execution_count": 15,
      "outputs": [
        {
          "output_type": "stream",
          "text": [
            "fatal: not a git repository (or any parent up to mount point /content)\n",
            "Stopping at filesystem boundary (GIT_DISCOVERY_ACROSS_FILESYSTEM not set).\n"
          ],
          "name": "stdout"
        }
      ]
    }
  ]
}